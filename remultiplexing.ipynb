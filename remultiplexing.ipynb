{
 "cells": [
  {
   "cell_type": "code",
   "execution_count": 1,
   "id": "a9a0664d",
   "metadata": {},
   "outputs": [],
   "source": [
    "import sys\n",
    "import os\n",
    "import subprocess\n",
    "import csv"
   ]
  },
  {
   "cell_type": "code",
   "execution_count": 5,
   "id": "c886935a",
   "metadata": {},
   "outputs": [
    {
     "data": {
      "text/plain": [
       "{'#Sample': 'BarcodeSequence',\n",
       " 'bc1001': 'TCAGACGATGCGTCAT',\n",
       " 'bc1002': 'CTATACATGACTCTGC',\n",
       " 'bc1003': 'TACTAGAGTAGCACTC',\n",
       " 'bc1004': 'TGTGTATCAGTACATG',\n",
       " 'bc1005': 'ACACGCATGACACACT',\n",
       " 'bc1006': 'GATCTCTACTATATGC',\n",
       " 'bc1007': 'ACAGTCTATACTGCTG',\n",
       " 'bc1008': 'ATGATGTGCTACATCT',\n",
       " 'bc1009': 'CTGCGTGCTCTACGAC',\n",
       " 'bc1011': 'CGCGCTCAGCTGATCG',\n",
       " 'bc1012': 'GCGCACGCACTACAGA',\n",
       " 'bc1013': 'ACACTGACGTCGCGAC',\n",
       " 'bc1014': 'CGTCTATATACGTATA',\n",
       " 'bc1015': 'ATAGAGACTCAGAGCT',\n",
       " 'bc1016': 'TAGATGCGAGAGTAGA',\n",
       " 'bc1017': 'CATAGCGACTATCGTG',\n",
       " 'bc1018': 'CATCACTACGCTAGAT',\n",
       " 'bc1019': 'CGCATCTGTGCATGCA',\n",
       " 'bc1020': 'TATGTGATCGTCTCTC',\n",
       " 'bc1021': 'GTACACGCTGTGACTA',\n",
       " 'bc1022': 'CGTGTCGCGCATATCT',\n",
       " 'bc1023': 'ATATCAGTCATGCATA',\n",
       " 'bc1024': 'GAGATCGACAGTCTCG',\n",
       " 'bc1026': 'CGAGCACGCGCGTGTG',\n",
       " 'bc1027': 'GTAGTCTCGCACAGAT',\n",
       " 'bc1028': 'GAGACTCTGTGCGCGT',\n",
       " 'bc1029': 'GCTCGACTGTGAGAGA',\n",
       " 'bc1030': 'AGAGATGTGTGATGAC',\n",
       " 'bc1031': 'TACGACTACATATCAG',\n",
       " 'bc1032': 'TATCTCTGTAGAGTCT',\n",
       " 'bc1033': 'AGAGAGAGACATGCGC',\n",
       " 'bc1034': 'ACTCTCGCTCTGTAGA',\n",
       " 'bc1035': 'TCTATGTCTCAGTAGT',\n",
       " 'bc1036': 'GCGTATATCTCATGCG',\n",
       " 'bc1037': 'GTGCGTATGTCGCTAC',\n",
       " 'bc1038': 'TGCTCGCAGTATCACA',\n",
       " 'bc1039': 'CTGTGTGTGATAGAGT',\n",
       " 'bc1040': 'CAGTGAGAGCGCGATA',\n",
       " 'bc1041': 'GTACATATGCGTCTGT',\n",
       " 'bc1042': 'GAGACTAGAGATAGTG',\n",
       " 'bc1043': 'TACGCGTGTACGCAGA',\n",
       " 'bc1044': 'TGTCACTCATCTGAGT',\n",
       " 'bc1045': 'GCACATACACGCTCAC',\n",
       " 'bc1046': 'GCTCGTCGCGCGCACA',\n",
       " 'bc1047': 'ACAGTGCGCTGTCTAT',\n",
       " 'bc1048': 'TCACACTCTAGAGCGA',\n",
       " 'bc1049': 'TCACATATGTATACAT',\n",
       " 'bc1050': 'CGCTGCGAGAGACAGT',\n",
       " 'bc1051': 'ACACACAGACTGTGAG',\n",
       " 'bc1052': 'GCAGACTCTCACACGC',\n",
       " 'bc1053': 'TGCTCTCGTGTACTGT',\n",
       " 'bc1054': 'GTGTGAGATATATATC',\n",
       " 'bc1055': 'CTCAGTGTGACACATG',\n",
       " 'bc1056': 'TGCGAGCGACTCTATC',\n",
       " 'bc1057': 'GTCAGCTAGTGTCAGC',\n",
       " 'bc1058': 'AGATATCATCAGCGAG',\n",
       " 'bc1059': 'GTGCAGTGATCGATGA',\n",
       " 'bc1060': 'TGACTCGCTCATAGTC',\n",
       " 'bc1061': 'ATGCTGATGACGCGCT',\n",
       " 'bc1062': 'GACAGCATCTGCGCTC',\n",
       " 'bc1063': 'AGCGTCTGACGTGAGT',\n",
       " 'bc1064': 'TCGATATACGACGTGC',\n",
       " 'bc1065': 'TCGTCATACGCTCTAG',\n",
       " 'bc1066': 'CGACTACGTACAGTAG',\n",
       " 'bc1067': 'GCGTAGACAGACTACA',\n",
       " 'bc1068': 'ACAGTATGATGTACTC',\n",
       " 'bc1069': 'GTCTGATAGATACAGA',\n",
       " 'bc1070': 'CTGCGCAGTACGTGCA',\n",
       " 'bc1071': 'TAGATCTCTGACTCAC',\n",
       " 'bc1072': 'CTGATGCGCGCTGTAC',\n",
       " 'bc1073': 'CACTCGTGCACGATGC',\n",
       " 'bc1074': 'TGACAGTATCACAGTG',\n",
       " 'bc1075': 'GAGATACGCTGCAGTC',\n",
       " 'bc1076': 'ACGTGAGCTCACTCGC',\n",
       " 'bc1077': 'ATAGAGAGTGTCTCAG',\n",
       " 'bc1078': 'CATAGAGAGATAGTAT',\n",
       " 'bc1079': 'ATCTCGAGATGTAGCG',\n",
       " 'bc1080': 'ACGATCACTCGTGTCA',\n",
       " 'bc1081': 'GATCGACTCGAGCATC',\n",
       " 'bc1082': 'ATGCTCACTACTACAT',\n",
       " 'bc1083': 'CGTGCACATCTATAGC',\n",
       " 'bc1084': 'GACTGCACATGCACGA',\n",
       " 'bc1085': 'TATGACTAGTGTACTA',\n",
       " 'bc1086': 'GACGTGTCGTAGATAT',\n",
       " 'bc1088': 'ATCGCTGTGTCTATAG',\n",
       " 'bc1089': 'TCTCACTGATAGCGTG',\n",
       " 'bc1091': 'CACACGAGATCTCATC',\n",
       " 'bc1092': 'AGATACACATGATACT',\n",
       " 'bc1094': 'TCTCGACTGCACATAT',\n",
       " 'bc1095': 'TGAGTGACGTGTAGCG',\n",
       " 'bc1096': 'GTGTGCACTCACACTC'}"
      ]
     },
     "execution_count": 5,
     "metadata": {},
     "output_type": "execute_result"
    }
   ],
   "source": [
    "#Dictionary of all index/barcode combos \n",
    "reader = csv.reader(open('Barcode_Sequences.csv', 'r',encoding='utf-8-sig'))\n",
    "bcs = {}\n",
    "for row in reader:\n",
    "    k, v = row\n",
    "    bcs[k] = v \n",
    "bcs"
   ]
  },
  {
   "cell_type": "code",
   "execution_count": 3,
   "id": "868d37fb",
   "metadata": {},
   "outputs": [],
   "source": [
    "#List of all fastqs\n",
    "\n",
    "fastqs = []\n",
    "for fastq in os.listdir('.'):\n",
    "    if fastq.endswith('fastq.gz'):\n",
    "        fastqs.append(fastq)\n",
    "        \n",
    "fastqs.sort()"
   ]
  },
  {
   "cell_type": "code",
   "execution_count": 4,
   "id": "040b0a5b",
   "metadata": {},
   "outputs": [],
   "source": [
    "#Adding barcode and dummy quality data on to each read indicated by matching file/barcode index\n",
    "for fastq in fastqs:\n",
    "    convert = str('gunzip '+fastq)\n",
    "    subprocess.run(convert, shell=True)\n",
    "    for k ,v in bcs.items():\n",
    "        if fastq[0:6] == k:\n",
    "            with open(fastq[:-3], 'r') as f, open('all_seqs.fastq', 'a+') as out:\n",
    "                count = 0\n",
    "                for idx, line in enumerate(f.read().splitlines()):\n",
    "                    count += 1\n",
    "                    if count == 2:\n",
    "                        print(v+line, file=out)\n",
    "                    elif count == 4:\n",
    "                        print(''.join(['~']*len(v))+line, file=out)\n",
    "                    else:\n",
    "                        print(line, file=out)\n",
    "                    if count == 4:\n",
    "                        count = 0\n",
    "        else:\n",
    "            continue"
   ]
  },
  {
   "cell_type": "code",
   "execution_count": null,
   "id": "a25e9cc2",
   "metadata": {},
   "outputs": [],
   "source": [
    "#Prepare for Qiime2 Import            \n",
    "os.system('gzip all_seqs.fastq')"
   ]
  },
  {
   "cell_type": "code",
   "execution_count": null,
   "id": "478ebfe3",
   "metadata": {},
   "outputs": [],
   "source": [
    "#Clean-up Steps\n",
    "os.system('mkdir fastqs')\n",
    "os.system('mv F*.fastq fastqs| mv fwd_sort.txt fastqs| mv rev_sort.txt fastqs | rm raw_seqs.fastq')"
   ]
  }
 ],
 "metadata": {
  "kernelspec": {
   "display_name": "Python 3 (ipykernel)",
   "language": "python",
   "name": "python3"
  },
  "language_info": {
   "codemirror_mode": {
    "name": "ipython",
    "version": 3
   },
   "file_extension": ".py",
   "mimetype": "text/x-python",
   "name": "python",
   "nbconvert_exporter": "python",
   "pygments_lexer": "ipython3",
   "version": "3.8.12"
  }
 },
 "nbformat": 4,
 "nbformat_minor": 5
}
